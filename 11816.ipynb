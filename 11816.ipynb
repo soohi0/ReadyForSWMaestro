{
  "nbformat": 4,
  "nbformat_minor": 0,
  "metadata": {
    "colab": {
      "name": "11816.ipynb",
      "provenance": [],
      "authorship_tag": "ABX9TyMCx5f8D7ONy5C750wxy1aq",
      "include_colab_link": true
    },
    "kernelspec": {
      "name": "python3",
      "display_name": "Python 3"
    },
    "language_info": {
      "name": "python"
    }
  },
  "cells": [
    {
      "cell_type": "markdown",
      "metadata": {
        "id": "view-in-github",
        "colab_type": "text"
      },
      "source": [
        "<a href=\"https://colab.research.google.com/github/soohi0/ReadyForSWMaestro/blob/main/11816.ipynb\" target=\"_parent\"><img src=\"https://colab.research.google.com/assets/colab-badge.svg\" alt=\"Open In Colab\"/></a>"
      ]
    },
    {
      "cell_type": "code",
      "metadata": {
        "colab": {
          "base_uri": "https://localhost:8080/"
        },
        "id": "EIosZiyLeCIj",
        "outputId": "b46ee732-94f2-47be-cdb1-7a08d796c435"
      },
      "source": [
        "num = input()\n",
        "cnt = 1\n",
        "sum = 0\n",
        "if len(num) >=3:\n",
        "    if num[0] == '0' and num[1] == 'X':\n",
        "        #16\n",
        "        subnum = num[2:]\n",
        "        for i in range(len(subnum), 0, -1 ):\n",
        "            n = int(subnum[i-1])\n",
        "            sum += n * cnt;\n",
        "            cnt *= 16\n",
        "print(sum)"
      ],
      "execution_count": 1,
      "outputs": [
        {
          "output_type": "stream",
          "text": [
            "0X10\n",
            "16\n"
          ],
          "name": "stdout"
        }
      ]
    },
    {
      "cell_type": "code",
      "metadata": {
        "colab": {
          "base_uri": "https://localhost:8080/"
        },
        "id": "HuCvneA9fqhT",
        "outputId": "268d8bec-53f9-47ef-cc39-d9adb6b66c44"
      },
      "source": [
        "string = input()\n",
        "if len(string) >= 2:\n",
        "    if string[0] == '0' and string[1] == 'x':\n",
        "        num = int(string, 16)\n",
        "    elif string[0] == '0':\n",
        "        string = '0o' + string[1:]\n",
        "        num = int(string,8)\n",
        "    else:\n",
        "        num = int(string)\n",
        "elif len(string) >= 1:\n",
        "    if string[0] == '0':\n",
        "        string = '0o' + string[1:]\n",
        "        num = int(string,8)\n",
        "    else:\n",
        "        num = int(string)\n",
        "print(num)"
      ],
      "execution_count": 13,
      "outputs": [
        {
          "output_type": "stream",
          "text": [
            "0x3f6\n",
            "1014\n"
          ],
          "name": "stdout"
        }
      ]
    },
    {
      "cell_type": "code",
      "metadata": {
        "id": "lCZX-OU5gHg2"
      },
      "source": [
        ""
      ],
      "execution_count": null,
      "outputs": []
    }
  ]
}