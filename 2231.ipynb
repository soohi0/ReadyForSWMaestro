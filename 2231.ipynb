{
  "nbformat": 4,
  "nbformat_minor": 0,
  "metadata": {
    "colab": {
      "name": "2231.ipynb",
      "provenance": [],
      "authorship_tag": "ABX9TyPqvykEGvP1p2mvgCOFlNu5",
      "include_colab_link": true
    },
    "kernelspec": {
      "name": "python3",
      "display_name": "Python 3"
    },
    "language_info": {
      "name": "python"
    }
  },
  "cells": [
    {
      "cell_type": "markdown",
      "metadata": {
        "id": "view-in-github",
        "colab_type": "text"
      },
      "source": [
        "<a href=\"https://colab.research.google.com/github/soohi0/ReadyForSWMaestro/blob/main/2231.ipynb\" target=\"_parent\"><img src=\"https://colab.research.google.com/assets/colab-badge.svg\" alt=\"Open In Colab\"/></a>"
      ]
    },
    {
      "cell_type": "code",
      "metadata": {
        "colab": {
          "base_uri": "https://localhost:8080/"
        },
        "id": "ij6oZUy4BQ06",
        "outputId": "3f4b8351-f262-488b-d989-50b828b4de1a"
      },
      "source": [
        "arr = [0] * 10000000\n",
        "n = int(input())\n",
        "def distinct(num):\n",
        "  return sum([int(j) for j in str(num)]) + num\n",
        "for i in range(1, n+1):\n",
        "  digit = distinct(i)\n",
        "  #print(digit)\n",
        "  if(arr[digit] == 0):\n",
        "    arr[digit] = i\n",
        "print(arr[n])"
      ],
      "execution_count": 8,
      "outputs": [
        {
          "output_type": "stream",
          "text": [
            "216\n",
            "198\n"
          ],
          "name": "stdout"
        }
      ]
    },
    {
      "cell_type": "code",
      "metadata": {
        "id": "8GwxrMyjE7B4"
      },
      "source": [
        ""
      ],
      "execution_count": null,
      "outputs": []
    }
  ]
}