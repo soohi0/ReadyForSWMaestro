{
  "nbformat": 4,
  "nbformat_minor": 0,
  "metadata": {
    "colab": {
      "name": "5704.ipynb",
      "provenance": [],
      "collapsed_sections": [],
      "authorship_tag": "ABX9TyPjEH44WFvqG+Kdl1BOV30s",
      "include_colab_link": true
    },
    "kernelspec": {
      "name": "python3",
      "display_name": "Python 3"
    },
    "language_info": {
      "name": "python"
    }
  },
  "cells": [
    {
      "cell_type": "markdown",
      "metadata": {
        "id": "view-in-github",
        "colab_type": "text"
      },
      "source": [
        "<a href=\"https://colab.research.google.com/github/soohi0/ReadyForSWMaestro/blob/main/5704.ipynb\" target=\"_parent\"><img src=\"https://colab.research.google.com/assets/colab-badge.svg\" alt=\"Open In Colab\"/></a>"
      ]
    },
    {
      "cell_type": "code",
      "metadata": {
        "colab": {
          "base_uri": "https://localhost:8080/"
        },
        "id": "n_oc2nCkysSh",
        "outputId": "1089ed80-ba5a-4071-9619-cf223a3633eb"
      },
      "source": [
        "def yorn(alpha):\n",
        "    for k,v in alpha.items():\n",
        "        if(v == 0):\n",
        "            return False\n",
        "    return True\n",
        "alphabet = {\n",
        "    'a': 0,\n",
        "    'b': 0,\n",
        "    'c': 0,\n",
        "    'd': 0,\n",
        "    'e': 0,\n",
        "    'f': 0,\n",
        "    'g': 0,\n",
        "    'h': 0,\n",
        "    'i': 0,\n",
        "    'j': 0,\n",
        "    'k': 0,\n",
        "    'l': 0,\n",
        "    'm': 0,\n",
        "    'n': 0,\n",
        "    'o': 0,\n",
        "    'p': 0,\n",
        "    'q': 0,\n",
        "    'r': 0,\n",
        "    's': 0,\n",
        "    't': 0,\n",
        "    'u': 0,\n",
        "    'v': 0,\n",
        "    'w': 0,\n",
        "    'x': 0,\n",
        "    'y': 0,\n",
        "    'z': 0\n",
        "}\n",
        "words = input().split(' ')\n",
        "YorN = []\n",
        "#print(words)\n",
        "while(words[0] != \"*\"):\n",
        "    for i in words:\n",
        "        #print(words)\n",
        "        for char in i:\n",
        "            #print(char)\n",
        "            integer = alphabet[char]\n",
        "            alphabet[char] = integer+1\n",
        "        YorN.append(yorn(alphabet))\n",
        "    words = input().split(' ')\n",
        "for yn in YorN:\n",
        "    if(yn == True):\n",
        "        print(Y)\n",
        "    else:\n",
        "        print(N)\n",
        "\n",
        "    \n"
      ],
      "execution_count": 6,
      "outputs": [
        {
          "output_type": "stream",
          "text": [
            "*\n",
            "['*']\n"
          ],
          "name": "stdout"
        }
      ]
    },
    {
      "cell_type": "code",
      "metadata": {
        "id": "QZf5uBumy4_G"
      },
      "source": [
        ""
      ],
      "execution_count": null,
      "outputs": []
    }
  ]
}