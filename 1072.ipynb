{
  "nbformat": 4,
  "nbformat_minor": 0,
  "metadata": {
    "colab": {
      "name": "1072.ipynb",
      "provenance": [],
      "authorship_tag": "ABX9TyOx2+jjC4jqi5v1nF0z1o5U",
      "include_colab_link": true
    },
    "kernelspec": {
      "name": "python3",
      "display_name": "Python 3"
    },
    "language_info": {
      "name": "python"
    }
  },
  "cells": [
    {
      "cell_type": "markdown",
      "metadata": {
        "id": "view-in-github",
        "colab_type": "text"
      },
      "source": [
        "<a href=\"https://colab.research.google.com/github/soohi0/ReadyForSWMaestro/blob/main/1072.ipynb\" target=\"_parent\"><img src=\"https://colab.research.google.com/assets/colab-badge.svg\" alt=\"Open In Colab\"/></a>"
      ]
    },
    {
      "cell_type": "code",
      "metadata": {
        "colab": {
          "base_uri": "https://localhost:8080/"
        },
        "id": "uQ0z6WZ564VD",
        "outputId": "380701ca-7a33-47c3-ab68-17a129f8ccc4"
      },
      "source": [
        "#lower_bound , 이진탐색\n",
        "\n",
        "#계속 틀렸는데 그 이유갸 floor때문. floor 안쓰고 int썼더니 틀렸었다.\n",
        "\n",
        "from math import floor\n",
        "X, Y = map(int,list(input().split(' ')))\n",
        "Z = floor(100 * Y / X) #승률\n",
        "\n",
        "#100 or 1차이 나는거는 수렴이 안되기에 -1 출력\n",
        "if Z >= 99:\n",
        "    print(-1)\n",
        "else:\n",
        "    start = 0\n",
        "    end = 1500000000\n",
        "    while end >= start:\n",
        "        mid = (start + end ) // 2\n",
        "        temp = 100*(Y+mid)/(X+mid)\n",
        "        if floor(temp) <= Z:\n",
        "            start = mid +1\n",
        "        else:\n",
        "            end = mid-1\n",
        "            \n",
        "    #mid 가 아니라 start를 출력해주어야 lower_bound 임\n",
        "    print(start)\n"
      ],
      "execution_count": 7,
      "outputs": [
        {
          "output_type": "stream",
          "text": [
            "47 47\n",
            "-1\n"
          ],
          "name": "stdout"
        }
      ]
    },
    {
      "cell_type": "code",
      "metadata": {
        "id": "sQmonOG77MzY"
      },
      "source": [
        ""
      ],
      "execution_count": null,
      "outputs": []
    }
  ]
}