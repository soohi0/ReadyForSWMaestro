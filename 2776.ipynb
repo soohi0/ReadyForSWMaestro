{
  "nbformat": 4,
  "nbformat_minor": 0,
  "metadata": {
    "colab": {
      "name": "2776.ipynb",
      "provenance": [],
      "authorship_tag": "ABX9TyN/zHsX17+A7MnU07GqCuMC",
      "include_colab_link": true
    },
    "kernelspec": {
      "name": "python3",
      "display_name": "Python 3"
    },
    "language_info": {
      "name": "python"
    }
  },
  "cells": [
    {
      "cell_type": "markdown",
      "metadata": {
        "id": "view-in-github",
        "colab_type": "text"
      },
      "source": [
        "<a href=\"https://colab.research.google.com/github/soohi0/ReadyForSWMaestro/blob/main/2776.ipynb\" target=\"_parent\"><img src=\"https://colab.research.google.com/assets/colab-badge.svg\" alt=\"Open In Colab\"/></a>"
      ]
    },
    {
      "cell_type": "code",
      "metadata": {
        "id": "WG8rAbK6v9GS",
        "colab": {
          "base_uri": "https://localhost:8080/"
        },
        "outputId": "f7d92067-dbc0-4584-dcdb-a64978ea404b"
      },
      "source": [
        "def isthere(arr1, arr2, num1):\n",
        "    arr1 = sorted(arr1)\n",
        "    TFarr = [int(0) for __ in range(num1)]\n",
        "    idx = 0\n",
        "    for i in arr2:\n",
        "        #print(\"this num : \",i)\n",
        "        startIdx = 0\n",
        "        endIdx = num1 - 1\n",
        "        while startIdx <= endIdx:\n",
        "            midIdx = (startIdx + endIdx) //2\n",
        "            #print(\"mid : \",midIdx)\n",
        "            if arr1[midIdx] < i:\n",
        "                startIdx = midIdx +1\n",
        "            elif arr1[midIdx] > i:\n",
        "                endIdx = midIdx-1\n",
        "            elif arr1[midIdx] == i:\n",
        "                #same\n",
        "                #print(\"same\")\n",
        "                TFarr[idx] = 1\n",
        "                startIdx = endIdx + 1\n",
        "        idx += 1\n",
        "    return TFarr\n",
        "\n",
        "t_case = int(input())\n",
        "for _ in range(t_case):\n",
        "    num1 = int(input())\n",
        "    arr1 = [int(a) for a in list(input().split(' '))]\n",
        "    num2 = int(input())\n",
        "    arr2 = [int(b) for b in list(input().split(' '))]\n",
        "    isExistarr = isthere(arr1, arr2, num1)\n",
        "    for TF in isExistarr:\n",
        "        if TF == 1:\n",
        "            print(1)\n",
        "        else:\n",
        "            print(0)\n",
        "        \n",
        "    \n",
        "\n",
        "\n"
      ],
      "execution_count": 40,
      "outputs": [
        {
          "output_type": "stream",
          "text": [
            "1\n",
            "5\n",
            "4 1 5 2 3\n",
            "5\n",
            "1 3 7 9 5\n",
            "1\n",
            "1\n",
            "0\n",
            "0\n",
            "1\n"
          ],
          "name": "stdout"
        }
      ]
    },
    {
      "cell_type": "code",
      "metadata": {
        "colab": {
          "base_uri": "https://localhost:8080/",
          "height": 135
        },
        "id": "crJrzI0wpyzg",
        "outputId": "658831a4-3193-47e6-8ecd-9b500c7cda8e"
      },
      "source": [
        "411\n",
        "5\n",
        "4 1 5 2 3\n",
        "5\n",
        "1 3 7 9 5"
      ],
      "execution_count": 38,
      "outputs": [
        {
          "output_type": "error",
          "ename": "SyntaxError",
          "evalue": "ignored",
          "traceback": [
            "\u001b[0;36m  File \u001b[0;32m\"<ipython-input-38-70c0c9ac6d83>\"\u001b[0;36m, line \u001b[0;32m3\u001b[0m\n\u001b[0;31m    4 1 5 2 3\u001b[0m\n\u001b[0m      ^\u001b[0m\n\u001b[0;31mSyntaxError\u001b[0m\u001b[0;31m:\u001b[0m invalid syntax\n"
          ]
        }
      ]
    },
    {
      "cell_type": "code",
      "metadata": {
        "id": "bi_bX4wIOSh1"
      },
      "source": [
        ""
      ],
      "execution_count": null,
      "outputs": []
    }
  ]
}