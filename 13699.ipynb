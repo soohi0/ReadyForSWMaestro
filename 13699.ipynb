{
  "nbformat": 4,
  "nbformat_minor": 0,
  "metadata": {
    "colab": {
      "name": "13699.ipynb",
      "provenance": [],
      "authorship_tag": "ABX9TyOK+pKHa3ysBR4UT2SL5BeG",
      "include_colab_link": true
    },
    "kernelspec": {
      "name": "python3",
      "display_name": "Python 3"
    },
    "language_info": {
      "name": "python"
    }
  },
  "cells": [
    {
      "cell_type": "markdown",
      "metadata": {
        "id": "view-in-github",
        "colab_type": "text"
      },
      "source": [
        "<a href=\"https://colab.research.google.com/github/soohi0/ReadyForSWMaestro/blob/main/13699.ipynb\" target=\"_parent\"><img src=\"https://colab.research.google.com/assets/colab-badge.svg\" alt=\"Open In Colab\"/></a>"
      ]
    },
    {
      "cell_type": "code",
      "metadata": {
        "colab": {
          "base_uri": "https://localhost:8080/"
        },
        "id": "knuAOEdLnzsA",
        "outputId": "63d46e36-bf64-4a8d-a6c2-079e4c44b4e3"
      },
      "source": [
        "num = int(input())\n",
        "cnt = 0\n",
        "sum = 0\n",
        "arr = [int(0) for a in range(num+1)]\n",
        "arr[0] = 1\n",
        "for i in range(1, num+1):\n",
        "    for j in range(i):\n",
        "        arr[i] += arr[j] * arr[i-j-1]\n",
        "    #print(arr[i])\n",
        "print(arr[num])"
      ],
      "execution_count": 4,
      "outputs": [
        {
          "output_type": "stream",
          "text": [
            "25\n",
            "4861946401452\n"
          ],
          "name": "stdout"
        }
      ]
    },
    {
      "cell_type": "code",
      "metadata": {
        "id": "LQF6lT63q2sW"
      },
      "source": [
        ""
      ],
      "execution_count": 1,
      "outputs": []
    }
  ]
}