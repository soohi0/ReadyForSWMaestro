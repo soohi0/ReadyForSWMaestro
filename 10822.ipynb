{
  "nbformat": 4,
  "nbformat_minor": 0,
  "metadata": {
    "colab": {
      "name": "10822.ipynb",
      "provenance": [],
      "authorship_tag": "ABX9TyPjxhMmG/Ny3nxLVip65yHh",
      "include_colab_link": true
    },
    "kernelspec": {
      "name": "python3",
      "display_name": "Python 3"
    },
    "language_info": {
      "name": "python"
    }
  },
  "cells": [
    {
      "cell_type": "markdown",
      "metadata": {
        "id": "view-in-github",
        "colab_type": "text"
      },
      "source": [
        "<a href=\"https://colab.research.google.com/github/soohi0/ReadyForSWMaestro/blob/main/10822.ipynb\" target=\"_parent\"><img src=\"https://colab.research.google.com/assets/colab-badge.svg\" alt=\"Open In Colab\"/></a>"
      ]
    },
    {
      "cell_type": "code",
      "metadata": {
        "id": "06jMk618UEL5",
        "colab": {
          "base_uri": "https://localhost:8080/"
        },
        "outputId": "50371d08-ab10-4c0d-b1ef-fa8a6cab0173"
      },
      "source": [
        "arr = list(input().split(','))\n",
        "arr = [int(a) for a in arr]\n",
        "\n",
        "print(sum(arr))"
      ],
      "execution_count": 5,
      "outputs": [
        {
          "output_type": "stream",
          "text": [
            "10,20,30,50,100\n",
            "210\n"
          ],
          "name": "stdout"
        }
      ]
    },
    {
      "cell_type": "code",
      "metadata": {
        "id": "yBQ2Gy7Vb6RV"
      },
      "source": [
        ""
      ],
      "execution_count": null,
      "outputs": []
    }
  ]
}