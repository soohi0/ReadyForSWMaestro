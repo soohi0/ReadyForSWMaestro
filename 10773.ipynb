{
  "nbformat": 4,
  "nbformat_minor": 0,
  "metadata": {
    "colab": {
      "name": "10773.ipynb",
      "provenance": [],
      "authorship_tag": "ABX9TyPzLcz4bz7fTYVLlOgvUuzN",
      "include_colab_link": true
    },
    "kernelspec": {
      "name": "python3",
      "display_name": "Python 3"
    },
    "language_info": {
      "name": "python"
    }
  },
  "cells": [
    {
      "cell_type": "markdown",
      "metadata": {
        "id": "view-in-github",
        "colab_type": "text"
      },
      "source": [
        "<a href=\"https://colab.research.google.com/github/soohi0/ReadyForSWMaestro/blob/main/10773.ipynb\" target=\"_parent\"><img src=\"https://colab.research.google.com/assets/colab-badge.svg\" alt=\"Open In Colab\"/></a>"
      ]
    },
    {
      "cell_type": "code",
      "metadata": {
        "colab": {
          "base_uri": "https://localhost:8080/"
        },
        "id": "XYLZAd-6-gS5",
        "outputId": "1ad286d9-5564-484f-ffbf-925a3fea9759"
      },
      "source": [
        "T = int(input())\n",
        "arr = [0]\n",
        "arridx = 0\n",
        "for i in range(T):\n",
        "  num = int(input())\n",
        "  if(num != 0):\n",
        "    #arridx += 1\n",
        "    arr.append(0)\n",
        "    arr[arridx] = num\n",
        "    arridx += 1\n",
        "  else:\n",
        "    arridx -=1\n",
        "sum = 0 \n",
        "for i in range(arridx):\n",
        "  sum += arr[i]\n",
        "\n",
        "print(sum)"
      ],
      "execution_count": 7,
      "outputs": [
        {
          "output_type": "stream",
          "text": [
            "10\n",
            "1\n",
            "3\n",
            "5\n",
            "4\n",
            "0\n",
            "0\n",
            "7\n",
            "0\n",
            "0\n",
            "6\n",
            "7\n"
          ],
          "name": "stdout"
        }
      ]
    },
    {
      "cell_type": "code",
      "metadata": {
        "id": "s1x1Ctjh_G1A"
      },
      "source": [
        ""
      ],
      "execution_count": 5,
      "outputs": []
    }
  ]
}