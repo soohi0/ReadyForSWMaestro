{
  "nbformat": 4,
  "nbformat_minor": 0,
  "metadata": {
    "colab": {
      "name": "20551.ipynb",
      "provenance": [],
      "collapsed_sections": [],
      "authorship_tag": "ABX9TyOMrYDM1ShTqZkILsLe2wED",
      "include_colab_link": true
    },
    "kernelspec": {
      "name": "python3",
      "display_name": "Python 3"
    },
    "language_info": {
      "name": "python"
    }
  },
  "cells": [
    {
      "cell_type": "markdown",
      "metadata": {
        "id": "view-in-github",
        "colab_type": "text"
      },
      "source": [
        "<a href=\"https://colab.research.google.com/github/soohi0/ReadyForSWMaestro/blob/main/20551.ipynb\" target=\"_parent\"><img src=\"https://colab.research.google.com/assets/colab-badge.svg\" alt=\"Open In Colab\"/></a>"
      ]
    },
    {
      "cell_type": "code",
      "metadata": {
        "colab": {
          "base_uri": "https://localhost:8080/"
        },
        "id": "vJGrsiDNcJHj",
        "outputId": "572024ca-671c-4371-f6ee-d5e653c6d305"
      },
      "source": [
        "#lower bound 사용해야함..\n",
        "\n",
        "def TorF(num, length, arr):\n",
        "    start = 0\n",
        "    end = length -1\n",
        "    cnt = 0\n",
        "    #print(\"num : \", num)\n",
        "\n",
        "    while end - start >= 0:\n",
        "        mid = (start + end) // 2\n",
        "        #print(\"mid :\" , mid)\n",
        "        #print(\"val :\", arr[mid])\n",
        "        if arr[mid] == num:\n",
        "            cnt += 1\n",
        "            end = mid-1\n",
        "        elif arr[mid] < num:\n",
        "            start = mid+1\n",
        "        else:\n",
        "            end = mid-1\n",
        "\n",
        "    if cnt >0:\n",
        "        return mid\n",
        "    else:\n",
        "        return -1    \n",
        "\n",
        "N, M = list(input().split(' '))\n",
        "arr1 = list()\n",
        "for _ in range(int(N)):\n",
        "    arr1.append(int(input()))\n",
        "arr1.sort()\n",
        "#print(arr1)\n",
        "arr2 = list()\n",
        "for __ in range(int(M)):\n",
        "    arr2.append(int(input()))\n",
        "check = list()\n",
        "for i in arr2:\n",
        "    check.append(TorF(i,int(N), arr1))\n",
        "for j in check:\n",
        "    print(j)"
      ],
      "execution_count": null,
      "outputs": [
        {
          "output_type": "stream",
          "text": [
            "8 1\n",
            "2\n",
            "2\n",
            "3\n",
            "3\n",
            "4\n",
            "4\n",
            "5\n"
          ],
          "name": "stdout"
        }
      ]
    },
    {
      "cell_type": "code",
      "metadata": {
        "id": "gTVIrch-ezjn",
        "colab": {
          "base_uri": "https://localhost:8080/"
        },
        "outputId": "d67bd4ac-129f-4394-b984-c09933af57f0"
      },
      "source": [
        "30"
      ],
      "execution_count": null,
      "outputs": [
        {
          "output_type": "execute_result",
          "data": {
            "text/plain": [
              "30"
            ]
          },
          "metadata": {
            "tags": []
          },
          "execution_count": 2
        }
      ]
    }
  ]
}