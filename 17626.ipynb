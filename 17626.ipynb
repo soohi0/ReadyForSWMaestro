{
  "nbformat": 4,
  "nbformat_minor": 0,
  "metadata": {
    "colab": {
      "name": "17626.ipynb",
      "provenance": [],
      "authorship_tag": "ABX9TyNZEazHtVesixEZkQ00cpQd",
      "include_colab_link": true
    },
    "kernelspec": {
      "name": "python3",
      "display_name": "Python 3"
    },
    "language_info": {
      "name": "python"
    }
  },
  "cells": [
    {
      "cell_type": "markdown",
      "metadata": {
        "id": "view-in-github",
        "colab_type": "text"
      },
      "source": [
        "<a href=\"https://colab.research.google.com/github/soohi0/ReadyForSWMaestro/blob/main/17626.ipynb\" target=\"_parent\"><img src=\"https://colab.research.google.com/assets/colab-badge.svg\" alt=\"Open In Colab\"/></a>"
      ]
    },
    {
      "cell_type": "code",
      "metadata": {
        "colab": {
          "base_uri": "https://localhost:8080/"
        },
        "id": "57iw7TLnqhfS",
        "outputId": "4c9f2949-339a-4954-fd00-2c73ca81c8d0"
      },
      "source": [
        "import math\n",
        "max = 987654321\n",
        "N = int(input())\n",
        "arr = [max for j in range(N+1)]\n",
        "arr[0] = 0\n",
        "arr[1] = 1\n",
        "arr[2] = 2\n",
        "for i in range(3,N+1):\n",
        "    sqrt = int(math.sqrt(i))\n",
        "    if sqrt == math.sqrt(i):\n",
        "        arr[i] = 1\n",
        "    else:\n",
        "        for j in range(1, sqrt+1):\n",
        "            n = i-(j**2)\n",
        "            arr[i] = min(arr[i], arr[n] + 1)\n",
        "print(arr[N])"
      ],
      "execution_count": 1,
      "outputs": [
        {
          "output_type": "stream",
          "text": [
            "26\n",
            "2\n"
          ],
          "name": "stdout"
        }
      ]
    },
    {
      "cell_type": "code",
      "metadata": {
        "id": "ROt1y1rxrHj4"
      },
      "source": [
        ""
      ],
      "execution_count": 19,
      "outputs": []
    }
  ]
}