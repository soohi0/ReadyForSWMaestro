{
  "nbformat": 4,
  "nbformat_minor": 0,
  "metadata": {
    "colab": {
      "name": "1747.ipynb",
      "provenance": [],
      "collapsed_sections": [],
      "authorship_tag": "ABX9TyMliwTA1Z36AhAaDlqGUAsd",
      "include_colab_link": true
    },
    "kernelspec": {
      "name": "python3",
      "display_name": "Python 3"
    },
    "language_info": {
      "name": "python"
    }
  },
  "cells": [
    {
      "cell_type": "markdown",
      "metadata": {
        "id": "view-in-github",
        "colab_type": "text"
      },
      "source": [
        "<a href=\"https://colab.research.google.com/github/soohi0/ReadyForSWMaestro/blob/main/1747.ipynb\" target=\"_parent\"><img src=\"https://colab.research.google.com/assets/colab-badge.svg\" alt=\"Open In Colab\"/></a>"
      ]
    },
    {
      "cell_type": "code",
      "metadata": {
        "id": "ueeRfED3GaWO",
        "colab": {
          "base_uri": "https://localhost:8080/"
        },
        "outputId": "95b65f2e-d416-4c7b-a54f-f2ef65639136"
      },
      "source": [
        "#소수구할 때 에라토스테네스의 체 참고, 제곱근까지 구하면 시간이 줄어든다\n",
        "#펠린드롬수를 먼저 구한다.\n",
        "import math\n",
        "def issosoo(num):\n",
        "  if(num == 1):\n",
        "    return False\n",
        "  for i in range(2, int(math.sqrt(num))+1):\n",
        "    if(num % i == 0):\n",
        "      return False\n",
        "  return True\n",
        "def pelindrome(num):\n",
        "  #rev_num = join(reversed(num))\n",
        "  rev_num = num[::-1]\n",
        "  if(num == rev_num):\n",
        "    return True\n",
        "  else:\n",
        "    return False\n",
        "\n",
        "strNum = input()\n",
        "intNum = int(strNum)\n",
        "while(True):\n",
        "  if( pelindrome(strNum)):\n",
        "    if(issosoo(intNum)):\n",
        "      print(intNum)\n",
        "      break\n",
        "    else:\n",
        "      intNum += 1\n",
        "      strNum = str(intNum)\n",
        "  else:\n",
        "    intNum += 1\n",
        "    strNum = str(intNum)\n",
        "\n"
      ],
      "execution_count": 8,
      "outputs": [
        {
          "output_type": "stream",
          "text": [
            "31\n",
            "101\n"
          ],
          "name": "stdout"
        }
      ]
    },
    {
      "cell_type": "code",
      "metadata": {
        "id": "loc-gRz9Wk36"
      },
      "source": [
        ""
      ],
      "execution_count": null,
      "outputs": []
    }
  ]
}