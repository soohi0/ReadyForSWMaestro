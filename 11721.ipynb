{
  "nbformat": 4,
  "nbformat_minor": 0,
  "metadata": {
    "colab": {
      "name": "11721.ipynb",
      "provenance": [],
      "authorship_tag": "ABX9TyNkkxbzjOK599QiwTkgCcFv",
      "include_colab_link": true
    },
    "kernelspec": {
      "name": "python3",
      "display_name": "Python 3"
    },
    "language_info": {
      "name": "python"
    }
  },
  "cells": [
    {
      "cell_type": "markdown",
      "metadata": {
        "id": "view-in-github",
        "colab_type": "text"
      },
      "source": [
        "<a href=\"https://colab.research.google.com/github/soohi0/ReadyForSWMaestro/blob/main/11721.ipynb\" target=\"_parent\"><img src=\"https://colab.research.google.com/assets/colab-badge.svg\" alt=\"Open In Colab\"/></a>"
      ]
    },
    {
      "cell_type": "code",
      "metadata": {
        "colab": {
          "base_uri": "https://localhost:8080/"
        },
        "id": "zGYE7nREaNeB",
        "outputId": "9907f28c-fe9d-4757-eec6-6e85dbab85c5"
      },
      "source": [
        "string = input()\n",
        "for chars in range(0, len(string), 10):\n",
        "    if chars < len(string):\n",
        "        print(string[chars:chars+10])"
      ],
      "execution_count": 4,
      "outputs": [
        {
          "output_type": "stream",
          "text": [
            "OneTwoThreeFourFiveSixSevenEightNineTen\n",
            "OneTwoThre\n",
            "eFourFiveS\n",
            "ixSevenEig\n",
            "htNineTen\n"
          ],
          "name": "stdout"
        }
      ]
    },
    {
      "cell_type": "code",
      "metadata": {
        "id": "YNdPlwTkhIws"
      },
      "source": [
        ""
      ],
      "execution_count": null,
      "outputs": []
    }
  ]
}