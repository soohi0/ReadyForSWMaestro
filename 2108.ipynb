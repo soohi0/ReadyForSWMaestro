{
  "nbformat": 4,
  "nbformat_minor": 0,
  "metadata": {
    "colab": {
      "name": "2108.ipynb",
      "provenance": [],
      "authorship_tag": "ABX9TyOZbVZspCiZQhm3tfg24IhG",
      "include_colab_link": true
    },
    "kernelspec": {
      "name": "python3",
      "display_name": "Python 3"
    },
    "language_info": {
      "name": "python"
    }
  },
  "cells": [
    {
      "cell_type": "markdown",
      "metadata": {
        "id": "view-in-github",
        "colab_type": "text"
      },
      "source": [
        "<a href=\"https://colab.research.google.com/github/soohi0/ReadyForSWMaestro/blob/main/2108.ipynb\" target=\"_parent\"><img src=\"https://colab.research.google.com/assets/colab-badge.svg\" alt=\"Open In Colab\"/></a>"
      ]
    },
    {
      "cell_type": "code",
      "metadata": {
        "colab": {
          "base_uri": "https://localhost:8080/"
        },
        "id": "zUiD0u7yfzZW",
        "outputId": "03bceb6b-4a3c-44be-f736-40d21a7ad576"
      },
      "source": [
        "from collections import Counter\n",
        "inputNum = int(input())\n",
        "numarr = list()\n",
        "for num in range(inputNum):\n",
        "    numarr.append(int(input()))\n",
        "#sorted(numarr)\n",
        "numarr.sort()\n",
        "print(round(sum(numarr)/len(numarr)))\n",
        "print(numarr[int(len(numarr)/2)])\n",
        "cnt = Counter(numarr)\n",
        "mode = cnt.most_common()\n",
        "#print(mode)\n",
        "if inputNum > 1 :\n",
        "    if(mode[0][1] == mode[1][1]):\n",
        "        print(mode[1][0])\n",
        "    else:\n",
        "        print(mode[0][0])\n",
        "else:\n",
        "    print(mode[0][0])\n",
        "print(numarr[len(numarr)-1] - numarr[0])"
      ],
      "execution_count": 26,
      "outputs": [
        {
          "output_type": "stream",
          "text": [
            "5\n",
            "-1\n",
            "-2\n",
            "-3\n",
            "-2\n",
            "-1\n",
            "-2\n",
            "-2\n",
            "-1\n",
            "2\n"
          ],
          "name": "stdout"
        }
      ]
    },
    {
      "cell_type": "code",
      "metadata": {
        "colab": {
          "base_uri": "https://localhost:8080/"
        },
        "id": "uVyniMgHpc9g",
        "outputId": "fed291e5-2be7-4827-9839-b8b66cc08baf"
      },
      "source": [
        "4001\n",
        "1"
      ],
      "execution_count": 23,
      "outputs": [
        {
          "output_type": "execute_result",
          "data": {
            "text/plain": [
              "1"
            ]
          },
          "metadata": {
            "tags": []
          },
          "execution_count": 23
        }
      ]
    },
    {
      "cell_type": "code",
      "metadata": {
        "id": "OXdrVnNfvgu5"
      },
      "source": [
        ""
      ],
      "execution_count": null,
      "outputs": []
    }
  ]
}