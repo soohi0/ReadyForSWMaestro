{
  "nbformat": 4,
  "nbformat_minor": 0,
  "metadata": {
    "colab": {
      "name": "1166.ipynb",
      "provenance": [],
      "authorship_tag": "ABX9TyNOBt0WMwuWYodlc7iRT8Hr",
      "include_colab_link": true
    },
    "kernelspec": {
      "name": "python3",
      "display_name": "Python 3"
    },
    "language_info": {
      "name": "python"
    }
  },
  "cells": [
    {
      "cell_type": "markdown",
      "metadata": {
        "id": "view-in-github",
        "colab_type": "text"
      },
      "source": [
        "<a href=\"https://colab.research.google.com/github/soohi0/ReadyForSWMaestro/blob/main/1166.ipynb\" target=\"_parent\"><img src=\"https://colab.research.google.com/assets/colab-badge.svg\" alt=\"Open In Colab\"/></a>"
      ]
    },
    {
      "cell_type": "code",
      "metadata": {
        "id": "Pf6WDWG3pFiY",
        "colab": {
          "base_uri": "https://localhost:8080/"
        },
        "outputId": "bba6101c-cda8-4300-998e-746e93816e45"
      },
      "source": [
        "N, L, W, H = map(int, list(input().split(' ')))\n",
        "#print(N, L, W, H)\n",
        "\n",
        "def findMax(N, L, W, H):\n",
        "    start = 0\n",
        "    end = max(L, W, H)\n",
        "    \n",
        "    for _ in range(100000):\n",
        "        mid = (start + end ) / 2 #float\n",
        "        temp = (L//mid) * (W // mid) * (H // mid)\n",
        "        \n",
        "        if  temp>= N:\n",
        "            start= mid\n",
        "        else:#N < temp\n",
        "            end = mid\n",
        "    return mid\n",
        "print(findMax(N, L, W, H))\n",
        "\n"
      ],
      "execution_count": 7,
      "outputs": [
        {
          "output_type": "stream",
          "text": [
            "10 4 2 10\n",
            "2.0\n"
          ],
          "name": "stdout"
        }
      ]
    },
    {
      "cell_type": "code",
      "metadata": {
        "id": "D0EDdHHmsj4O"
      },
      "source": [
        ""
      ],
      "execution_count": null,
      "outputs": []
    }
  ]
}