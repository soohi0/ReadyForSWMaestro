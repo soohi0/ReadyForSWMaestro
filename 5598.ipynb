{
  "nbformat": 4,
  "nbformat_minor": 0,
  "metadata": {
    "colab": {
      "name": "5598.ipynb",
      "provenance": [],
      "collapsed_sections": [],
      "authorship_tag": "ABX9TyPBFOjZON1albO6ZUNm/aI9",
      "include_colab_link": true
    },
    "kernelspec": {
      "name": "python3",
      "display_name": "Python 3"
    },
    "language_info": {
      "name": "python"
    }
  },
  "cells": [
    {
      "cell_type": "markdown",
      "metadata": {
        "id": "view-in-github",
        "colab_type": "text"
      },
      "source": [
        "<a href=\"https://colab.research.google.com/github/soohi0/ReadyForSWMaestro/blob/main/5598.ipynb\" target=\"_parent\"><img src=\"https://colab.research.google.com/assets/colab-badge.svg\" alt=\"Open In Colab\"/></a>"
      ]
    },
    {
      "cell_type": "code",
      "metadata": {
        "colab": {
          "base_uri": "https://localhost:8080/"
        },
        "id": "VzA9-oKrqfx6",
        "outputId": "f4847d29-9720-4d56-a048-2e410cce4bd8"
      },
      "source": [
        "strarr = input()\n",
        "strarr = [char for char in strarr]\n",
        "strDict = {\n",
        "    \"D\" : \"A\",\n",
        "    'E' : 'B',\n",
        "    'F' : 'C',\n",
        "    'G' : 'D',\n",
        "    'H' : 'E',\n",
        "    'I' : 'F',\n",
        "    'J' : 'G',\n",
        "    'K' : 'H',\n",
        "    'L' : 'I',\n",
        "    'M' : 'J',\n",
        "    'N' : 'K',\n",
        "    'O' : 'L',\n",
        "    'P' : 'M',\n",
        "    'Q' : 'N',\n",
        "    'R' : 'O',\n",
        "    'S' : 'P',\n",
        "    'T' : 'Q',\n",
        "    'U' : 'R',\n",
        "    'V' : 'S',\n",
        "    'W' : 'T',\n",
        "    'X' : 'U',\n",
        "    'Y' : 'V',\n",
        "    'Z' : 'W',\n",
        "    'A' : 'X',\n",
        "    'B' : 'Y',\n",
        "    'C' : 'Z'\n",
        "}\n",
        "string = ''\n",
        "for a in strarr:\n",
        "    string += strDict[a]\n",
        "print(string)\n"
      ],
      "execution_count": 6,
      "outputs": [
        {
          "output_type": "stream",
          "text": [
            "MRL\n",
            "JOI\n"
          ],
          "name": "stdout"
        }
      ]
    },
    {
      "cell_type": "code",
      "metadata": {
        "id": "h6xZt1_OqyO4"
      },
      "source": [
        ""
      ],
      "execution_count": null,
      "outputs": []
    }
  ]
}