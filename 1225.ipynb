{
  "nbformat": 4,
  "nbformat_minor": 0,
  "metadata": {
    "colab": {
      "name": "1225.iypnb",
      "provenance": [],
      "collapsed_sections": [],
      "authorship_tag": "ABX9TyN0JkTg0TnWG1KQdnOMcQ86",
      "include_colab_link": true
    },
    "kernelspec": {
      "name": "python3",
      "display_name": "Python 3"
    },
    "language_info": {
      "name": "python"
    }
  },
  "cells": [
    {
      "cell_type": "markdown",
      "metadata": {
        "id": "view-in-github",
        "colab_type": "text"
      },
      "source": [
        "<a href=\"https://colab.research.google.com/github/soohi0/ReadyForSWMaestro/blob/main/1225.ipynb\" target=\"_parent\"><img src=\"https://colab.research.google.com/assets/colab-badge.svg\" alt=\"Open In Colab\"/></a>"
      ]
    },
    {
      "cell_type": "code",
      "metadata": {
        "colab": {
          "base_uri": "https://localhost:8080/"
        },
        "id": "dTcscKWOdnDI",
        "outputId": "7d43d80b-46d2-47a2-db4d-ed01e267ab3a"
      },
      "source": [
        "\n",
        "n, m = map(int, input().split())\n",
        "\n",
        "n= str(n)\n",
        "m = str(m)\n",
        "mul = 0\n",
        "for char1 in n:\n",
        "    for char2 in m:\n",
        "        mul += int(char1) * int(char2)\n",
        "\n",
        "print(mul)"
      ],
      "execution_count": 18,
      "outputs": [
        {
          "output_type": "stream",
          "text": [
            "123 45\n",
            "54\n"
          ],
          "name": "stdout"
        }
      ]
    },
    {
      "cell_type": "code",
      "metadata": {
        "id": "ANiNVwDwd19f"
      },
      "source": [
        ""
      ],
      "execution_count": 12,
      "outputs": []
    }
  ]
}