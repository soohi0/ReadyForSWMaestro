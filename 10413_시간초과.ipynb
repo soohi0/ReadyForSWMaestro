{
  "nbformat": 4,
  "nbformat_minor": 0,
  "metadata": {
    "colab": {
      "name": "10413_시간초과.ipynb",
      "provenance": [],
      "collapsed_sections": [],
      "authorship_tag": "ABX9TyP13c8jkGBRy/3+Um15RBZf",
      "include_colab_link": true
    },
    "kernelspec": {
      "name": "python3",
      "display_name": "Python 3"
    },
    "language_info": {
      "name": "python"
    }
  },
  "cells": [
    {
      "cell_type": "markdown",
      "metadata": {
        "id": "view-in-github",
        "colab_type": "text"
      },
      "source": [
        "<a href=\"https://colab.research.google.com/github/soohi0/ReadyForSWMaestro/blob/main/10413_%EC%8B%9C%EA%B0%84%EC%B4%88%EA%B3%BC.ipynb\" target=\"_parent\"><img src=\"https://colab.research.google.com/assets/colab-badge.svg\" alt=\"Open In Colab\"/></a>"
      ]
    },
    {
      "cell_type": "code",
      "metadata": {
        "colab": {
          "base_uri": "https://localhost:8080/"
        },
        "id": "QAFEx55x8-dM",
        "outputId": "f8359fa0-a699-4acb-9470-f478ac0fbda4"
      },
      "source": [
        "#kmp활용해야함. -> 공부\n",
        "def Checkin(inputStr):\n",
        "  cnt = 0\n",
        "  stringList = list()\n",
        "  checkedList = list()\n",
        "  for s in range(len(inputStr)):\n",
        "    for j in range(0, s+1):\n",
        "      string = inputStr[j:s+1]\n",
        "      #print(string)\n",
        "      if string in stringList:\n",
        "        if string not in checkedList:\n",
        "          cnt += 1\n",
        "          checkedList.append(string)\n",
        "          #print('중복되는 : ', string)\n",
        "      else:\n",
        "        stringList.append(string)\n",
        "  return cnt\n",
        "\n",
        "test = int(input())\n",
        "rtnList = list()\n",
        "for i in range(test):\n",
        "  inputStr = input()\n",
        "  num = Checkin(inputStr)\n",
        "  #print(num)\n",
        "  rtnList.append(num)\n",
        "for j in rtnList:\n",
        "  print(j)\n",
        "#aabaab\n",
        "#aaaaa\n",
        "#AaAaA"
      ],
      "execution_count": null,
      "outputs": [
        {
          "output_type": "stream",
          "text": [
            "3\n",
            "aabaab\n",
            "aaaaa\n",
            "AaAaA\n",
            "5\n",
            "4\n",
            "5\n"
          ],
          "name": "stdout"
        }
      ]
    },
    {
      "cell_type": "code",
      "metadata": {
        "id": "fWpS-bCF-RNx"
      },
      "source": [
        ""
      ],
      "execution_count": null,
      "outputs": []
    }
  ]
}