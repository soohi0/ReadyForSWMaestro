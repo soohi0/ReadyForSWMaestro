{
  "nbformat": 4,
  "nbformat_minor": 0,
  "metadata": {
    "colab": {
      "name": "4458.ipynb",
      "provenance": [],
      "authorship_tag": "ABX9TyMAuMF3GgtJJUK/7MRYr7tu",
      "include_colab_link": true
    },
    "kernelspec": {
      "name": "python3",
      "display_name": "Python 3"
    },
    "language_info": {
      "name": "python"
    }
  },
  "cells": [
    {
      "cell_type": "markdown",
      "metadata": {
        "id": "view-in-github",
        "colab_type": "text"
      },
      "source": [
        "<a href=\"https://colab.research.google.com/github/soohi0/ReadyForSWMaestro/blob/main/4458.ipynb\" target=\"_parent\"><img src=\"https://colab.research.google.com/assets/colab-badge.svg\" alt=\"Open In Colab\"/></a>"
      ]
    },
    {
      "cell_type": "code",
      "metadata": {
        "colab": {
          "base_uri": "https://localhost:8080/"
        },
        "id": "_ZY4i0FyUYqc",
        "outputId": "3acee50d-10db-4e3d-a8a1-5c5247d17a37"
      },
      "source": [
        "n = int(input())\n",
        "strarr = list()\n",
        "for i in range(n):\n",
        "    string = input()\n",
        "    #char = string[0]\n",
        "    string = string.capitalize()\n",
        "    #print(string)\n",
        "    strarr.append(string)\n",
        "    #if string[0]\n",
        "for j in strarr:\n",
        "    print(j)"
      ],
      "execution_count": 2,
      "outputs": [
        {
          "output_type": "stream",
          "text": [
            "5\n",
            "powdered Toast Man\n",
            "skeletor\n",
            "Electra Woman and Dyna Girl\n",
            "she-Ra Princess of Power\n",
            "darth Vader\n",
            "Powdered toast man\n",
            "Skeletor\n",
            "Electra woman and dyna girl\n",
            "She-ra princess of power\n",
            "Darth vader\n"
          ],
          "name": "stdout"
        }
      ]
    },
    {
      "cell_type": "code",
      "metadata": {
        "id": "vS08v1fQVVoc"
      },
      "source": [
        ""
      ],
      "execution_count": null,
      "outputs": []
    }
  ]
}