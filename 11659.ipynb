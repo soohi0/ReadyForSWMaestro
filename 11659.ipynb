{
  "nbformat": 4,
  "nbformat_minor": 0,
  "metadata": {
    "colab": {
      "name": "11659.ipynb",
      "provenance": [],
      "collapsed_sections": [],
      "authorship_tag": "ABX9TyM8kNHHzDP8Q+gOrYSA0/jd",
      "include_colab_link": true
    },
    "kernelspec": {
      "name": "python3",
      "display_name": "Python 3"
    },
    "language_info": {
      "name": "python"
    }
  },
  "cells": [
    {
      "cell_type": "markdown",
      "metadata": {
        "id": "view-in-github",
        "colab_type": "text"
      },
      "source": [
        "<a href=\"https://colab.research.google.com/github/soohi0/ReadyForSWMaestro/blob/main/11659.ipynb\" target=\"_parent\"><img src=\"https://colab.research.google.com/assets/colab-badge.svg\" alt=\"Open In Colab\"/></a>"
      ]
    },
    {
      "cell_type": "code",
      "metadata": {
        "colab": {
          "base_uri": "https://localhost:8080/"
        },
        "id": "z4dyzztMsSkL",
        "outputId": "fecc7515-b91a-4a5b-da0c-fdca01e8a0ae"
      },
      "source": [
        "def partsum(st, en, arr):\n",
        "    sum_ = 0\n",
        "    for j in range(st-1, en):\n",
        "        sum_ += arr[j]\n",
        "    #print(arr[0])\n",
        "    #print(arr[2])\n",
        "    #sum_ = sum(arr[st-1:])\n",
        "    return sum_\n",
        "\n",
        "N, M = list(input().split(' '))\n",
        "#print(N.typeof())\n",
        "N = int(N)\n",
        "M = int(M)\n",
        "numarr_ = map(int,list(input().split(' ')))\n",
        "numarr = [int(x) for x in numarr_]\n",
        "sumarr = list()\n",
        "for i in range(M): #gap\n",
        "    start, end = list(input().split(' '))\n",
        "    start = int(start)\n",
        "    end = int(end)\n",
        "    sum = partsum(start, end, numarr)\n",
        "    sumarr.append(sum)\n",
        "for k in sumarr:\n",
        "    print(k)"
      ],
      "execution_count": 25,
      "outputs": [
        {
          "output_type": "stream",
          "text": [
            "5 3\n",
            "5 4 3 2 1\n",
            "1 3\n",
            "2 4\n",
            "5 5\n",
            "12\n",
            "9\n",
            "1\n"
          ],
          "name": "stdout"
        }
      ]
    },
    {
      "cell_type": "code",
      "metadata": {
        "id": "LMNfDV3UtV3D"
      },
      "source": [
        ""
      ],
      "execution_count": null,
      "outputs": []
    }
  ]
}