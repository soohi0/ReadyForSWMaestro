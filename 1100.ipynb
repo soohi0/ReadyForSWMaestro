{
  "nbformat": 4,
  "nbformat_minor": 0,
  "metadata": {
    "colab": {
      "name": "1100.ipynb",
      "provenance": [],
      "authorship_tag": "ABX9TyNdjlw30zwSF43EC3LS4ajq",
      "include_colab_link": true
    },
    "kernelspec": {
      "name": "python3",
      "display_name": "Python 3"
    },
    "language_info": {
      "name": "python"
    }
  },
  "cells": [
    {
      "cell_type": "markdown",
      "metadata": {
        "id": "view-in-github",
        "colab_type": "text"
      },
      "source": [
        "<a href=\"https://colab.research.google.com/github/soohi0/ReadyForSWMaestro/blob/main/1100.ipynb\" target=\"_parent\"><img src=\"https://colab.research.google.com/assets/colab-badge.svg\" alt=\"Open In Colab\"/></a>"
      ]
    },
    {
      "cell_type": "code",
      "metadata": {
        "colab": {
          "base_uri": "https://localhost:8080/"
        },
        "id": "ExJIM6EYQ3Dh",
        "outputId": "9f77b601-8461-4974-8f91-d326ad32897f"
      },
      "source": [
        "cnt = 0\n",
        "for _ in range(8):\n",
        "    string = input()\n",
        "    strlist = list(string)\n",
        "    #print(strlist[0])\n",
        "\n",
        "    if _%2 is 0:\n",
        "        for i in range(8):\n",
        "            if i%2 is 0:\n",
        "                if strlist[i] is 'F':\n",
        "                    cnt += 1\n",
        "    else:\n",
        "        for j in range(8):\n",
        "            if j%2 is 1:\n",
        "                if strlist[j] is 'F':\n",
        "                      cnt += 1\n",
        "print(cnt)\n",
        "\n"
      ],
      "execution_count": 8,
      "outputs": [
        {
          "output_type": "stream",
          "text": [
            ".F.F...F\n",
            "F...F.F.\n",
            "...F.F.F\n",
            "F.F...F.\n",
            ".F...F..\n",
            "F...F.F.\n",
            ".F.F.F.F\n",
            "..FF..F.\n",
            "1\n"
          ],
          "name": "stdout"
        }
      ]
    },
    {
      "cell_type": "code",
      "metadata": {
        "id": "HZBbQ8TLRKIY"
      },
      "source": [
        ""
      ],
      "execution_count": null,
      "outputs": []
    }
  ]
}