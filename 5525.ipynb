{
  "nbformat": 4,
  "nbformat_minor": 0,
  "metadata": {
    "colab": {
      "name": "5525.ipynb",
      "provenance": [],
      "authorship_tag": "ABX9TyO1AobZjz6Rk0MQ+XgfFAjB",
      "include_colab_link": true
    },
    "kernelspec": {
      "name": "python3",
      "display_name": "Python 3"
    },
    "language_info": {
      "name": "python"
    }
  },
  "cells": [
    {
      "cell_type": "markdown",
      "metadata": {
        "id": "view-in-github",
        "colab_type": "text"
      },
      "source": [
        "<a href=\"https://colab.research.google.com/github/soohi0/ReadyForSWMaestro/blob/main/5525.ipynb\" target=\"_parent\"><img src=\"https://colab.research.google.com/assets/colab-badge.svg\" alt=\"Open In Colab\"/></a>"
      ]
    },
    {
      "cell_type": "code",
      "metadata": {
        "colab": {
          "base_uri": "https://localhost:8080/"
        },
        "id": "OfFCpObWiZHf",
        "outputId": "63f9597d-cfc3-4fa7-db06-b5d4c3259025"
      },
      "source": [
        "N = int(input())\n",
        "M = int(input())\n",
        "s = input()\n",
        "i = cnt = p = 0 \n",
        "while i < M-2:\n",
        "    if s[i] == 'I' and s[i+1] == 'O' and s[i+2] == 'I':\n",
        "        i += 2\n",
        "        p += 1\n",
        "        if p == N:\n",
        "            p -= 1\n",
        "            cnt += 1    \n",
        "    else:\n",
        "        i += 1\n",
        "        p = 0\n",
        "print(cnt)"
      ],
      "execution_count": 1,
      "outputs": [
        {
          "output_type": "stream",
          "text": [
            "1\n",
            "13\n",
            "OOIOIOIOIIOII\n",
            "4\n"
          ],
          "name": "stdout"
        }
      ]
    },
    {
      "cell_type": "code",
      "metadata": {
        "id": "PnV2vtCon5ou"
      },
      "source": [
        ""
      ],
      "execution_count": null,
      "outputs": []
    }
  ]
}