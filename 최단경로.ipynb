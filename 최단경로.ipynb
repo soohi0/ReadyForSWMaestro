{
  "nbformat": 4,
  "nbformat_minor": 0,
  "metadata": {
    "colab": {
      "name": "최단경로.ipynb",
      "provenance": [],
      "authorship_tag": "ABX9TyNK2CYcSrmLi1P0SQGgMBc0",
      "include_colab_link": true
    },
    "kernelspec": {
      "name": "python3",
      "display_name": "Python 3"
    },
    "language_info": {
      "name": "python"
    }
  },
  "cells": [
    {
      "cell_type": "markdown",
      "metadata": {
        "id": "view-in-github",
        "colab_type": "text"
      },
      "source": [
        "<a href=\"https://colab.research.google.com/github/soohi0/ReadyForSWMaestro/blob/main/%EC%B5%9C%EB%8B%A8%EA%B2%BD%EB%A1%9C.ipynb\" target=\"_parent\"><img src=\"https://colab.research.google.com/assets/colab-badge.svg\" alt=\"Open In Colab\"/></a>"
      ]
    },
    {
      "cell_type": "code",
      "metadata": {
        "colab": {
          "base_uri": "https://localhost:8080/"
        },
        "id": "2x3jGxWFPs9e",
        "outputId": "3013706f-0ccd-4de6-b1a8-4a3ba2b9f9c9"
      },
      "source": [
        "import sys\n",
        "#V= int(input())\n",
        "#E = int(input())\n",
        "def dijkstra(K, V, graph):\n",
        "  INF = sys.maxsize\n",
        "\n",
        "  s = [False] * V\n",
        "  d = [INF] * V\n",
        "  d[K-1] = 0\n",
        "\n",
        "  while True:\n",
        "    m = INF\n",
        "    N = -1\n",
        "\n",
        "    for j in range(V):\n",
        "      if not s[j] and m > d[j]:\n",
        "        m = d[j]\n",
        "        N = j\n",
        "\n",
        "    if m == INF:\n",
        "      break\n",
        "    s[N] = True\n",
        "    for j in range(V):\n",
        "      if s[j]: continue\n",
        "      via = d[N] + graph[N][j]\n",
        "      if d[j] > via:\n",
        "        d[j] = via\n",
        "  return d\n",
        "\n",
        "\n",
        "V, E = map(int, input().split())\n",
        "#a = sys.stdin.readline().stripe()\n",
        "#start = map(int, sys.stdin, readline().split())\n",
        "K =int(input())\n",
        "\n",
        "INF = sys.maxsize #max num in system : 2^63\n",
        "graph = [[INF] * V for _ in range(V)]\n",
        "#represent graph with inline\n",
        "#arrays that size is INF are V manchem itda\n",
        "\n",
        "for _ in range(E):\n",
        "  u, v, w = map(int, input().split())\n",
        "  graph[u-1][v-1] = w\n",
        "\n",
        "for d in dijkstra(K, V, graph):\n",
        "  print(d if d != INF else \"INF\")"
      ],
      "execution_count": null,
      "outputs": [
        {
          "output_type": "stream",
          "text": [
            "5 6\n",
            "1\n",
            "5 1 1\n",
            "1 2 2\n",
            "1 3 3\n",
            "2 3 4\n",
            "2 4 5\n",
            "3 4 6\n",
            "0\n",
            "2\n",
            "3\n",
            "7\n",
            "INF\n"
          ],
          "name": "stdout"
        }
      ]
    },
    {
      "cell_type": "code",
      "metadata": {
        "id": "IrND7gMMSCdO"
      },
      "source": [
        ""
      ],
      "execution_count": null,
      "outputs": []
    }
  ]
}