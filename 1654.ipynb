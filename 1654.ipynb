{
  "nbformat": 4,
  "nbformat_minor": 0,
  "metadata": {
    "colab": {
      "name": "1654.ipynb",
      "provenance": [],
      "authorship_tag": "ABX9TyOgrqAkH8nNd7wjqDf+XN6G",
      "include_colab_link": true
    },
    "kernelspec": {
      "name": "python3",
      "display_name": "Python 3"
    },
    "language_info": {
      "name": "python"
    }
  },
  "cells": [
    {
      "cell_type": "markdown",
      "metadata": {
        "id": "view-in-github",
        "colab_type": "text"
      },
      "source": [
        "<a href=\"https://colab.research.google.com/github/soohi0/ReadyForSWMaestro/blob/main/1654.ipynb\" target=\"_parent\"><img src=\"https://colab.research.google.com/assets/colab-badge.svg\" alt=\"Open In Colab\"/></a>"
      ]
    },
    {
      "cell_type": "code",
      "metadata": {
        "colab": {
          "base_uri": "https://localhost:8080/"
        },
        "id": "VokyyT7TyGUl",
        "outputId": "8e34110e-ce1a-4f75-a605-05a39b052d0f"
      },
      "source": [
        "#https://www.acmicpc.net/problem/1654\n",
        "K, N = map(int, list(input().split(' ')))\n",
        "arr = list()\n",
        "for _ in range(K):\n",
        "    arr.append(int(input()))\n",
        "\n",
        "def findLen(K, N, arr):\n",
        "    start = 0\n",
        "    end = max(arr)\n",
        "    \n",
        "    for __ in range(100000):\n",
        "        mid = (start + end)//2\n",
        "        temp = 0\n",
        "        for i in arr:\n",
        "            temp += i // mid\n",
        "        if temp >= N:\n",
        "            start = mid\n",
        "        else:\n",
        "            end = mid\n",
        "    return mid\n",
        "print(findLen(K, N, arr))"
      ],
      "execution_count": 8,
      "outputs": [
        {
          "output_type": "stream",
          "text": [
            "4 11\n",
            "802\n",
            "743\n",
            "457\n",
            "539\n",
            "200\n"
          ],
          "name": "stdout"
        }
      ]
    },
    {
      "cell_type": "code",
      "metadata": {
        "id": "S8V6G_-KztAj"
      },
      "source": [
        "4 11\n",
        "802\n",
        "743\n",
        "457\n",
        "539"
      ],
      "execution_count": null,
      "outputs": []
    }
  ]
}