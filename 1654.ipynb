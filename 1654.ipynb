{
  "nbformat": 4,
  "nbformat_minor": 0,
  "metadata": {
    "colab": {
      "name": "1654.ipynb",
      "provenance": [],
      "authorship_tag": "ABX9TyM70XZSAkZyutaniazQiNAD",
      "include_colab_link": true
    },
    "kernelspec": {
      "name": "python3",
      "display_name": "Python 3"
    },
    "language_info": {
      "name": "python"
    }
  },
  "cells": [
    {
      "cell_type": "markdown",
      "metadata": {
        "id": "view-in-github",
        "colab_type": "text"
      },
      "source": [
        "<a href=\"https://colab.research.google.com/github/soohi0/ReadyForSWMaestro/blob/main/1654.ipynb\" target=\"_parent\"><img src=\"https://colab.research.google.com/assets/colab-badge.svg\" alt=\"Open In Colab\"/></a>"
      ]
    },
    {
      "cell_type": "code",
      "metadata": {
        "colab": {
          "base_uri": "https://localhost:8080/"
        },
        "id": "VokyyT7TyGUl",
        "outputId": "bb73f926-ae86-4b36-f664-1b21777a614b"
      },
      "source": [
        "#https://www.acmicpc.net/problem/1654\n",
        "K, N = map(int, list(input().split(' ')))\n",
        "arr = list()\n",
        "for _ in range(K):\n",
        "    arr.append(int(input()))\n",
        "\n",
        "def findLen(K, N, arr):\n",
        "    #start = 0 -> zero division error\n",
        "    start = 1\n",
        "    end = max(arr)\n",
        "    \n",
        "    while start <= end:\n",
        "        mid = (start + end)//2\n",
        "        temp = 0\n",
        "        for i in arr:\n",
        "            temp += i // mid\n",
        "        if temp >= N:\n",
        "            start = mid +1\n",
        "        else:\n",
        "            end = mid -1\n",
        "    return end\n",
        "print(findLen(K, N, arr))"
      ],
      "execution_count": 12,
      "outputs": [
        {
          "output_type": "stream",
          "text": [
            "4 11\n",
            "802\n",
            "743\n",
            "457\n",
            "539\n",
            "200\n"
          ],
          "name": "stdout"
        }
      ]
    },
    {
      "cell_type": "code",
      "metadata": {
        "id": "S8V6G_-KztAj"
      },
      "source": [
        "4 11\n",
        "802\n",
        "743\n",
        "457\n",
        "539"
      ],
      "execution_count": null,
      "outputs": []
    }
  ]
}