{
  "nbformat": 4,
  "nbformat_minor": 0,
  "metadata": {
    "colab": {
      "name": "13163.ipynb",
      "provenance": [],
      "authorship_tag": "ABX9TyOGX8FFtIvZv+Q3g2CuuP5Y",
      "include_colab_link": true
    },
    "kernelspec": {
      "name": "python3",
      "display_name": "Python 3"
    },
    "language_info": {
      "name": "python"
    }
  },
  "cells": [
    {
      "cell_type": "markdown",
      "metadata": {
        "id": "view-in-github",
        "colab_type": "text"
      },
      "source": [
        "<a href=\"https://colab.research.google.com/github/soohi0/ReadyForSWMaestro/blob/main/13163.ipynb\" target=\"_parent\"><img src=\"https://colab.research.google.com/assets/colab-badge.svg\" alt=\"Open In Colab\"/></a>"
      ]
    },
    {
      "cell_type": "code",
      "metadata": {
        "colab": {
          "base_uri": "https://localhost:8080/"
        },
        "id": "1wCwdatjjafH",
        "outputId": "17ceaa51-ab4d-446a-bb70-1264c44e0db9"
      },
      "source": [
        "n = int(input())\n",
        "strarr = list()\n",
        "for _ in range(n):\n",
        "    arr = list(input().split(' '))\n",
        "    string = ''.join(arr[1:])\n",
        "    #print(string)\n",
        "    #if len(string) >= 3:\n",
        "        #substr = string[3:]\n",
        "    strarr.append('god'+string)\n",
        "for s in strarr:\n",
        "    print(s)    \n"
      ],
      "execution_count": 7,
      "outputs": [
        {
          "output_type": "stream",
          "text": [
            "1\n",
            "Beak joon\n",
            "joon\n",
            "godjoon\n"
          ],
          "name": "stdout"
        }
      ]
    },
    {
      "cell_type": "code",
      "metadata": {
        "id": "bsFgS61_kANw"
      },
      "source": [
        ""
      ],
      "execution_count": null,
      "outputs": []
    }
  ]
}