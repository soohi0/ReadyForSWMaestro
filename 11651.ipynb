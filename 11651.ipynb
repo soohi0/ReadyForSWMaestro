{
  "nbformat": 4,
  "nbformat_minor": 0,
  "metadata": {
    "colab": {
      "name": "11651.ipynb",
      "provenance": [],
      "authorship_tag": "ABX9TyN5MWwZPf/TEKEKO9e+qWfs",
      "include_colab_link": true
    },
    "kernelspec": {
      "name": "python3",
      "display_name": "Python 3"
    },
    "language_info": {
      "name": "python"
    }
  },
  "cells": [
    {
      "cell_type": "markdown",
      "metadata": {
        "id": "view-in-github",
        "colab_type": "text"
      },
      "source": [
        "<a href=\"https://colab.research.google.com/github/soohi0/ReadyForSWMaestro/blob/main/11651.ipynb\" target=\"_parent\"><img src=\"https://colab.research.google.com/assets/colab-badge.svg\" alt=\"Open In Colab\"/></a>"
      ]
    },
    {
      "cell_type": "code",
      "metadata": {
        "colab": {
          "base_uri": "https://localhost:8080/"
        },
        "id": "BSA6cmckjbef",
        "outputId": "e7912893-f758-46d5-a804-17b5b1831a72"
      },
      "source": [
        "n = int(input())\n",
        "arr = list()\n",
        "for _ in range(n):\n",
        "    x, y = map(int, input().split())\n",
        "    arr.append((y, x))\n",
        "\n",
        "sorted(arr)\n",
        "\n",
        "print(arr)\n",
        "for x1, y1 in arr:\n",
        "    print(y1, x1)\n"
      ],
      "execution_count": 11,
      "outputs": [
        {
          "output_type": "stream",
          "text": [
            "5\n",
            "0 4\n",
            "1 2\n",
            "1 -1\n",
            "2 2\n",
            "3 3\n",
            "[(4, 0), (2, 1), (-1, 1), (2, 2), (3, 3)]\n",
            "0 4\n",
            "1 2\n",
            "1 -1\n",
            "2 2\n",
            "3 3\n"
          ],
          "name": "stdout"
        }
      ]
    },
    {
      "cell_type": "code",
      "metadata": {
        "id": "GaRb0zPDj1Gp"
      },
      "source": [
        "#5\n",
        "#0 4\n",
        "#1 2\n",
        "#1 -1\n",
        "#2 2\n",
        "#3"
      ],
      "execution_count": null,
      "outputs": []
    }
  ]
}