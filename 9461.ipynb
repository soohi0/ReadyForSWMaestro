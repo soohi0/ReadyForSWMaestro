{
  "nbformat": 4,
  "nbformat_minor": 0,
  "metadata": {
    "colab": {
      "name": "9461.ipynb",
      "provenance": [],
      "authorship_tag": "ABX9TyNivyhyB89X7+F1WyIXIB+K",
      "include_colab_link": true
    },
    "kernelspec": {
      "name": "python3",
      "display_name": "Python 3"
    },
    "language_info": {
      "name": "python"
    }
  },
  "cells": [
    {
      "cell_type": "markdown",
      "metadata": {
        "id": "view-in-github",
        "colab_type": "text"
      },
      "source": [
        "<a href=\"https://colab.research.google.com/github/soohi0/ReadyForSWMaestro/blob/main/9461.ipynb\" target=\"_parent\"><img src=\"https://colab.research.google.com/assets/colab-badge.svg\" alt=\"Open In Colab\"/></a>"
      ]
    },
    {
      "cell_type": "code",
      "metadata": {
        "colab": {
          "base_uri": "https://localhost:8080/"
        },
        "id": "RFcP1ZMvvsFC",
        "outputId": "6217bcc9-b2ae-4e3c-c5b6-870e0cf4a13c"
      },
      "source": [
        "t_case = int(input())\n",
        "arr = [int(0) for a in range(101)]\n",
        "arr[0] = 1\n",
        "arr[1] = 1\n",
        "arr[2] = 1\n",
        "arr[3] = 2\n",
        "arr[4] = 2\n",
        "for ele in range(5, 101):\n",
        "    #print(ele)\n",
        "    arr[ele] = arr[ele-2] + arr[ele-3]\n",
        "    #print(arr[ele])\n",
        "answerarr = list()\n",
        "for _ in range(t_case):\n",
        "    n = int(input())\n",
        "    answerarr.append(arr[n-1])\n",
        "for i in answerarr:\n",
        "    print(i)"
      ],
      "execution_count": 4,
      "outputs": [
        {
          "output_type": "stream",
          "text": [
            "2\n",
            "6\n",
            "12\n",
            "3\n",
            "16\n"
          ],
          "name": "stdout"
        }
      ]
    },
    {
      "cell_type": "code",
      "metadata": {
        "id": "Kz6Q5nOkwvZT"
      },
      "source": [
        ""
      ],
      "execution_count": 1,
      "outputs": []
    }
  ]
}