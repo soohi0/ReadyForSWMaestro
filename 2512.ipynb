{
  "nbformat": 4,
  "nbformat_minor": 0,
  "metadata": {
    "colab": {
      "name": "2512.ipynb",
      "provenance": [],
      "authorship_tag": "ABX9TyMt3ayhWClRrFMPEL1oM59e",
      "include_colab_link": true
    },
    "kernelspec": {
      "name": "python3",
      "display_name": "Python 3"
    },
    "language_info": {
      "name": "python"
    }
  },
  "cells": [
    {
      "cell_type": "markdown",
      "metadata": {
        "id": "view-in-github",
        "colab_type": "text"
      },
      "source": [
        "<a href=\"https://colab.research.google.com/github/soohi0/ReadyForSWMaestro/blob/main/2512.ipynb\" target=\"_parent\"><img src=\"https://colab.research.google.com/assets/colab-badge.svg\" alt=\"Open In Colab\"/></a>"
      ]
    },
    {
      "cell_type": "code",
      "metadata": {
        "colab": {
          "base_uri": "https://localhost:8080/"
        },
        "id": "ASG5S0A_t-Sd",
        "outputId": "18c4b9b7-d073-43bc-b5b2-52ecd225cd7b"
      },
      "source": [
        "#upper boundary\n",
        "num = int(input())\n",
        "numarr = [int(a) for a in list(input().split(' '))]\n",
        "#print(numarr)\n",
        "mount = int(input())\n",
        "\n",
        "start = 0\n",
        "end = max(numarr)\n",
        "\n",
        "def upper_bound(start, end):\n",
        "\n",
        "    while start <= end:\n",
        "        mid = (start + end) // 2\n",
        "        temp = 0\n",
        "        for i in numarr:\n",
        "            if i > mid:\n",
        "                temp += mid\n",
        "            else:\n",
        "                temp += i\n",
        "        if temp < mount:\n",
        "            start = mid+1\n",
        "        elif temp > mount:\n",
        "            end = mid-1\n",
        "        else:\n",
        "            return mid\n",
        "    return end\n",
        "\n",
        "print(upper_bound(start, end))"
      ],
      "execution_count": 16,
      "outputs": [
        {
          "output_type": "stream",
          "text": [
            "4\n",
            "120 110 140 150\n",
            "485\n",
            "127\n"
          ],
          "name": "stdout"
        }
      ]
    },
    {
      "cell_type": "code",
      "metadata": {
        "id": "DZ-zNKZauy9n"
      },
      "source": [
        " 4\n",
        "120 110 140 150\n",
        "485"
      ],
      "execution_count": null,
      "outputs": []
    }
  ]
}