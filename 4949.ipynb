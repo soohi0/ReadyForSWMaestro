{
  "nbformat": 4,
  "nbformat_minor": 0,
  "metadata": {
    "colab": {
      "name": "4949.ipynb",
      "provenance": [],
      "collapsed_sections": [],
      "authorship_tag": "ABX9TyMOD8DEf7OF9bozbHuAdZfD",
      "include_colab_link": true
    },
    "kernelspec": {
      "name": "python3",
      "display_name": "Python 3"
    },
    "language_info": {
      "name": "python"
    }
  },
  "cells": [
    {
      "cell_type": "markdown",
      "metadata": {
        "id": "view-in-github",
        "colab_type": "text"
      },
      "source": [
        "<a href=\"https://colab.research.google.com/github/soohi0/ReadyForSWMaestro/blob/main/4949.ipynb\" target=\"_parent\"><img src=\"https://colab.research.google.com/assets/colab-badge.svg\" alt=\"Open In Colab\"/></a>"
      ]
    },
    {
      "cell_type": "code",
      "metadata": {
        "colab": {
          "base_uri": "https://localhost:8080/"
        },
        "id": "WGOv91MM3_ul",
        "outputId": "f5329c90-bedc-4d61-cf51-ab99c0805edd"
      },
      "source": [
        "\n",
        "balanced = list(input())\n",
        "print(balanced)\n",
        "stack = []\n",
        "stack2 = []\n",
        "for char in balanced:\n",
        "    if char == '(' or char == '[':\n",
        "        stack.append(char)\n",
        "    elif char == ')' or char == ']':\n",
        "        stack2.append(char)\n",
        "print(stack)\n",
        "print(stack2)\n",
        "for open in stack:\n",
        "    stack.pop()\n",
        "    stack2.pop()\n",
        "if len(stack) == 0 and len(stack2) == 0:\n",
        "    print('yes')\n",
        "else:\n",
        "    print('no')\n"
      ],
      "execution_count": null,
      "outputs": [
        {
          "output_type": "stream",
          "text": [
            "So when I die (the [first] I will see in (heaven) is a score list).\n",
            "['S', 'o', ' ', 'w', 'h', 'e', 'n', ' ', 'I', ' ', 'd', 'i', 'e', ' ', '(', 't', 'h', 'e', ' ', '[', 'f', 'i', 'r', 's', 't', ']', ' ', 'I', ' ', 'w', 'i', 'l', 'l', ' ', 's', 'e', 'e', ' ', 'i', 'n', ' ', '(', 'h', 'e', 'a', 'v', 'e', 'n', ')', ' ', 'i', 's', ' ', 'a', ' ', 's', 'c', 'o', 'r', 'e', ' ', 'l', 'i', 's', 't', ')', '.']\n",
            "['(', '[', '(']\n",
            "[']', ')', ')']\n",
            "no\n"
          ],
          "name": "stdout"
        }
      ]
    },
    {
      "cell_type": "code",
      "metadata": {
        "id": "Svqn2yFo448l"
      },
      "source": [
        ""
      ],
      "execution_count": null,
      "outputs": []
    }
  ]
}