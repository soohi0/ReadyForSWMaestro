{
  "nbformat": 4,
  "nbformat_minor": 0,
  "metadata": {
    "colab": {
      "name": "2775.ipynb",
      "provenance": [],
      "collapsed_sections": [],
      "toc_visible": true,
      "authorship_tag": "ABX9TyOJ7TtImgVtovE4/q/a3oan",
      "include_colab_link": true
    },
    "kernelspec": {
      "name": "python3",
      "display_name": "Python 3"
    },
    "language_info": {
      "name": "python"
    }
  },
  "cells": [
    {
      "cell_type": "markdown",
      "metadata": {
        "id": "view-in-github",
        "colab_type": "text"
      },
      "source": [
        "<a href=\"https://colab.research.google.com/github/soohi0/ReadyForSWMaestro/blob/main/2775.ipynb\" target=\"_parent\"><img src=\"https://colab.research.google.com/assets/colab-badge.svg\" alt=\"Open In Colab\"/></a>"
      ]
    },
    {
      "cell_type": "code",
      "metadata": {
        "colab": {
          "base_uri": "https://localhost:8080/",
          "height": 135
        },
        "id": "8WIG1JaOEcyf",
        "outputId": "62cbfd86-1811-4d94-a3d8-32636cb0539f"
      },
      "source": [
        "T = int(input())\n",
        "maxK = 0\n",
        "k = []\n",
        "n = []\n",
        "for i in range(T):\n",
        "  k.append(int(input()))\n",
        "  n.append(int(input()))\n",
        "maxK = max(k)\n",
        "graph0 = [0] * 14\n",
        "for i in range(1, 15):\n",
        "  graph0[i-1] = i\n",
        "graph2 = []\n",
        "graph2.append(graph0)\n",
        "for i in range(1, maxK+1):\n",
        "  graph1 = [0] * 14\n",
        "  for j in range(1, 15):\n",
        "    #graph1 = graph2[i-1][j]\n",
        "    num = 0\n",
        "    for kk in range(0, j):\n",
        "      num += graph2[i-1][kk]\n",
        "    graph1[j-1] = num\n",
        "  graph2.append(graph1)\n",
        "for i in range(T):\n",
        "  print(graph2[k[i]][n[i]-1])\n",
        "    "
      ],
      "execution_count": 30,
      "outputs": [
        {
          "output_type": "error",
          "ename": "SyntaxError",
          "evalue": "ignored",
          "traceback": [
            "\u001b[0;36m  File \u001b[0;32m\"<ipython-input-30-b9b637f81240>\"\u001b[0;36m, line \u001b[0;32m16\u001b[0m\n\u001b[0;31m    for  in range(1, 15):\u001b[0m\n\u001b[0m          ^\u001b[0m\n\u001b[0;31mSyntaxError\u001b[0m\u001b[0;31m:\u001b[0m invalid syntax\n"
          ]
        }
      ]
    },
    {
      "cell_type": "code",
      "metadata": {
        "colab": {
          "base_uri": "https://localhost:8080/"
        },
        "id": "UfXtwmBIGws_",
        "outputId": "b74c953b-92f0-4493-c528-150fb4b2ce5c"
      },
      "source": [
        ""
      ],
      "execution_count": 24,
      "outputs": [
        {
          "output_type": "execute_result",
          "data": {
            "text/plain": [
              "23"
            ]
          },
          "metadata": {
            "tags": []
          },
          "execution_count": 24
        }
      ]
    },
    {
      "cell_type": "code",
      "metadata": {
        "id": "kKtvBYy-stqM"
      },
      "source": [
        ""
      ],
      "execution_count": null,
      "outputs": []
    },
    {
      "cell_type": "markdown",
      "metadata": {
        "id": "V3RUxYUzwf3k"
      },
      "source": [
        ""
      ]
    }
  ]
}