{
  "nbformat": 4,
  "nbformat_minor": 0,
  "metadata": {
    "colab": {
      "name": "10989.ipynb",
      "provenance": [],
      "collapsed_sections": [],
      "authorship_tag": "ABX9TyMmY9rjAfCtOTHEWgr5kGAM",
      "include_colab_link": true
    },
    "kernelspec": {
      "name": "python3",
      "display_name": "Python 3"
    },
    "language_info": {
      "name": "python"
    }
  },
  "cells": [
    {
      "cell_type": "markdown",
      "metadata": {
        "id": "view-in-github",
        "colab_type": "text"
      },
      "source": [
        "<a href=\"https://colab.research.google.com/github/soohi0/ReadyForSWMaestro/blob/main/10989.ipynb\" target=\"_parent\"><img src=\"https://colab.research.google.com/assets/colab-badge.svg\" alt=\"Open In Colab\"/></a>"
      ]
    },
    {
      "cell_type": "code",
      "metadata": {
        "colab": {
          "base_uri": "https://localhost:8080/"
        },
        "id": "rX1ZTbjAImRC",
        "outputId": "0fa1b9df-d267-4a01-f617-04777e2c87f6"
      },
      "source": [
        "#메모리, 시간제한 주의\n",
        "import sys\n",
        "N = int(input()) \n",
        "check_list = [0] * 10001 \n",
        "for i in range(N):\n",
        "    input_num = int(sys.stdin.readline())\n",
        "    check_list[input_num] = check_list[input_num] + 1\n",
        "    for i in range(10001):\n",
        "       if check_list[i] != 0:\n",
        "          for j in range(check_list[i]):\n",
        "             print(i)\n"
      ],
      "execution_count": 5,
      "outputs": [
        {
          "output_type": "stream",
          "text": [
            "3\n",
            "5\n",
            "2\n",
            "3\n",
            "2\n",
            "3\n",
            "5\n"
          ],
          "name": "stdout"
        }
      ]
    },
    {
      "cell_type": "code",
      "metadata": {
        "id": "T0K8KSeiJPM3"
      },
      "source": [
        ""
      ],
      "execution_count": null,
      "outputs": []
    }
  ]
}