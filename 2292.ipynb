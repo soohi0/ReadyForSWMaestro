{
  "nbformat": 4,
  "nbformat_minor": 0,
  "metadata": {
    "colab": {
      "name": "2292.ipynb",
      "provenance": [],
      "authorship_tag": "ABX9TyPImEr30gALg7GdekcaxiNW",
      "include_colab_link": true
    },
    "kernelspec": {
      "name": "python3",
      "display_name": "Python 3"
    },
    "language_info": {
      "name": "python"
    }
  },
  "cells": [
    {
      "cell_type": "markdown",
      "metadata": {
        "id": "view-in-github",
        "colab_type": "text"
      },
      "source": [
        "<a href=\"https://colab.research.google.com/github/soohi0/ReadyForSWMaestro/blob/main/2292.ipynb\" target=\"_parent\"><img src=\"https://colab.research.google.com/assets/colab-badge.svg\" alt=\"Open In Colab\"/></a>"
      ]
    },
    {
      "cell_type": "code",
      "metadata": {
        "colab": {
          "base_uri": "https://localhost:8080/"
        },
        "id": "maWsFeXYzcob",
        "outputId": "129cce64-83a0-46fb-c7a7-708f7f7be68d"
      },
      "source": [
        "inputNum = int(input())\n",
        "#num = 0\n",
        "cnt = 0\n",
        "cmpNum = 1\n",
        "basoo = 6\n",
        "while True:\n",
        "    if cmpNum >= inputNum:\n",
        "        cnt+=1\n",
        "        break;\n",
        "    else:\n",
        "        cnt += 1\n",
        "        cmpNum += basoo\n",
        "        basoo += 6\n",
        "print(cnt)\n",
        "#1\n",
        "#2~7 : 6\n",
        "#8~19 : 12\n",
        "#20~37 : 18\n"
      ],
      "execution_count": 4,
      "outputs": [
        {
          "output_type": "stream",
          "text": [
            "31\n",
            "4\n"
          ],
          "name": "stdout"
        }
      ]
    },
    {
      "cell_type": "code",
      "metadata": {
        "id": "o68VIId92xRw"
      },
      "source": [
        ""
      ],
      "execution_count": null,
      "outputs": []
    }
  ]
}