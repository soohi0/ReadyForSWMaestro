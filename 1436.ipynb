{
  "nbformat": 4,
  "nbformat_minor": 0,
  "metadata": {
    "colab": {
      "name": "1436.ipynb",
      "provenance": [],
      "collapsed_sections": [],
      "authorship_tag": "ABX9TyPkFs04SYFxvhhhNVBN+iWL",
      "include_colab_link": true
    },
    "kernelspec": {
      "name": "python3",
      "display_name": "Python 3"
    },
    "language_info": {
      "name": "python"
    }
  },
  "cells": [
    {
      "cell_type": "markdown",
      "metadata": {
        "id": "view-in-github",
        "colab_type": "text"
      },
      "source": [
        "<a href=\"https://colab.research.google.com/github/soohi0/ReadyForSWMaestro/blob/main/1436.ipynb\" target=\"_parent\"><img src=\"https://colab.research.google.com/assets/colab-badge.svg\" alt=\"Open In Colab\"/></a>"
      ]
    },
    {
      "cell_type": "code",
      "metadata": {
        "colab": {
          "base_uri": "https://localhost:8080/"
        },
        "id": "o2tyd_XhFlYX",
        "outputId": "f90268b3-68e9-4252-a264-1369d3f92f9e"
      },
      "source": [
        "inputNum = int(input())\n",
        "cnt = 0\n",
        "n = 666\n",
        "while True:\n",
        "    if '666' in str(n):\n",
        "        cnt += 1\n",
        "    if cnt == inputNum:\n",
        "        print(n)\n",
        "        break\n",
        "    n += 1"
      ],
      "execution_count": 2,
      "outputs": [
        {
          "output_type": "stream",
          "text": [
            "2\n",
            "1666\n"
          ],
          "name": "stdout"
        }
      ]
    }
  ]
}