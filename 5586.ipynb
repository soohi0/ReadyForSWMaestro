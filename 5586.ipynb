{
  "nbformat": 4,
  "nbformat_minor": 0,
  "metadata": {
    "colab": {
      "name": "5586.ipynb",
      "provenance": [],
      "authorship_tag": "ABX9TyOOakKrFHYM99TEiMmJDSns",
      "include_colab_link": true
    },
    "kernelspec": {
      "name": "python3",
      "display_name": "Python 3"
    },
    "language_info": {
      "name": "python"
    }
  },
  "cells": [
    {
      "cell_type": "markdown",
      "metadata": {
        "id": "view-in-github",
        "colab_type": "text"
      },
      "source": [
        "<a href=\"https://colab.research.google.com/github/soohi0/ReadyForSWMaestro/blob/main/5586.ipynb\" target=\"_parent\"><img src=\"https://colab.research.google.com/assets/colab-badge.svg\" alt=\"Open In Colab\"/></a>"
      ]
    },
    {
      "cell_type": "code",
      "metadata": {
        "colab": {
          "base_uri": "https://localhost:8080/"
        },
        "id": "CTOe5cwqu3Te",
        "outputId": "3981caec-8422-44de-d65e-3a7bf6873bf1"
      },
      "source": [
        "string = input()\n",
        "strlist = list(string)\n",
        "joicnt = 0\n",
        "ioicnt = 0\n",
        "if len(strlist) >= 2:\n",
        "    for i in range(len(strlist)-2):\n",
        "        if strlist[i] == 'J' and strlist[i+1] == 'O' and strlist[i+2] == 'I':\n",
        "            joicnt += 1\n",
        "        elif strlist[i] == 'I' and strlist[i+1] == 'O' and strlist[i+2] == 'I':\n",
        "            ioicnt += 1\n",
        "\n",
        "print(joicnt)\n",
        "print(ioicnt)\n",
        "    "
      ],
      "execution_count": 1,
      "outputs": [
        {
          "output_type": "stream",
          "text": [
            "JOIOIOIOI\n",
            "1\n",
            "3\n"
          ],
          "name": "stdout"
        }
      ]
    },
    {
      "cell_type": "code",
      "metadata": {
        "id": "QDr5pxtJ0cCJ"
      },
      "source": [
        ""
      ],
      "execution_count": null,
      "outputs": []
    }
  ]
}