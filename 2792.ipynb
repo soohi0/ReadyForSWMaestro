{
  "nbformat": 4,
  "nbformat_minor": 0,
  "metadata": {
    "colab": {
      "name": "2792.ipynb",
      "provenance": [],
      "authorship_tag": "ABX9TyPI+o0eH84NtEAweTvnkd7+",
      "include_colab_link": true
    },
    "kernelspec": {
      "name": "python3",
      "display_name": "Python 3"
    },
    "language_info": {
      "name": "python"
    }
  },
  "cells": [
    {
      "cell_type": "markdown",
      "metadata": {
        "id": "view-in-github",
        "colab_type": "text"
      },
      "source": [
        "<a href=\"https://colab.research.google.com/github/soohi0/ReadyForSWMaestro/blob/main/2792.ipynb\" target=\"_parent\"><img src=\"https://colab.research.google.com/assets/colab-badge.svg\" alt=\"Open In Colab\"/></a>"
      ]
    },
    {
      "cell_type": "code",
      "metadata": {
        "colab": {
          "base_uri": "https://localhost:8080/"
        },
        "id": "m5-TV05cU61u",
        "outputId": "4a59f1b0-755a-4114-86ce-f757dd9fd801"
      },
      "source": [
        "N, M = map(int, list(input().split(' ')))\n",
        "#print(N, M)\n",
        "colors = list()\n",
        "for _ in range(M):\n",
        "    colors.append(int(input()))\n",
        "start = 0\n",
        "end = min(colors)\n",
        "greedy = 0\n",
        "while start < end:\n",
        "    mid = (start + end) // 2\n",
        "    temp = 0\n",
        "    for c in colors:\n",
        "        if c % mid != 0:\n",
        "            temp += c//mid + 1\n",
        "        else:\n",
        "            temp += c//mid\n",
        "    if temp < N:\n",
        "        end = mid-1\n",
        "    elif temp > N:\n",
        "        start = mid+1\n",
        "    else:\n",
        "        greedy = mid\n",
        "        break;\n",
        "print(greedy)\n"
      ],
      "execution_count": 3,
      "outputs": [
        {
          "output_type": "stream",
          "text": [
            "5 2\n",
            "7\n",
            "4\n",
            "3\n"
          ],
          "name": "stdout"
        }
      ]
    },
    {
      "cell_type": "code",
      "metadata": {
        "id": "MsHpTC0GVG_G"
      },
      "source": [
        ""
      ],
      "execution_count": null,
      "outputs": []
    }
  ]
}