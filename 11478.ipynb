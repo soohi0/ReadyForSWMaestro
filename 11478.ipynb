{
  "nbformat": 4,
  "nbformat_minor": 0,
  "metadata": {
    "colab": {
      "name": "11478.ipynb",
      "provenance": [],
      "collapsed_sections": [],
      "authorship_tag": "ABX9TyO65/Bc67v19ux26KKVk06I",
      "include_colab_link": true
    },
    "kernelspec": {
      "name": "python3",
      "display_name": "Python 3"
    },
    "language_info": {
      "name": "python"
    }
  },
  "cells": [
    {
      "cell_type": "markdown",
      "metadata": {
        "id": "view-in-github",
        "colab_type": "text"
      },
      "source": [
        "<a href=\"https://colab.research.google.com/github/soohi0/ReadyForSWMaestro/blob/main/11478.ipynb\" target=\"_parent\"><img src=\"https://colab.research.google.com/assets/colab-badge.svg\" alt=\"Open In Colab\"/></a>"
      ]
    },
    {
      "cell_type": "code",
      "metadata": {
        "id": "pc0kU5_aJ_Y3",
        "colab": {
          "base_uri": "https://localhost:8080/"
        },
        "outputId": "2966472d-a85a-4648-ee64-023c1c9b6677"
      },
      "source": [
        "S = input()\n",
        "for i in range(1, len(S)+1):\n",
        "  #print(i)\n",
        "  for j in S:\n",
        "    substr = S[i: i + j]\n",
        "    print(substr)"
      ],
      "execution_count": 5,
      "outputs": [
        {
          "output_type": "stream",
          "text": [
            "ababc\n",
            "a\n",
            "ab\n",
            "aba\n",
            "abab\n",
            "ababc\n",
            "b\n",
            "ba\n",
            "bab\n",
            "babc\n",
            "babc\n",
            "a\n",
            "ab\n",
            "abc\n",
            "abc\n",
            "abc\n",
            "b\n",
            "bc\n",
            "bc\n",
            "bc\n",
            "bc\n",
            "c\n",
            "c\n",
            "c\n",
            "c\n",
            "c\n"
          ],
          "name": "stdout"
        }
      ]
    },
    {
      "cell_type": "code",
      "metadata": {
        "id": "P2YFayMyKM_s"
      },
      "source": [
        "S = input()\n",
        "for i in range(len(S)):\n",
        "  #print(i)\n",
        "  for j in range(1, len(S) + 1):\n",
        "    substr = S[i: i + j]\n",
        "    print(substr)"
      ],
      "execution_count": null,
      "outputs": []
    }
  ]
}